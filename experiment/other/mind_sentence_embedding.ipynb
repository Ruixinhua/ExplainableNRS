{
 "cells": [
  {
   "cell_type": "code",
   "execution_count": 1,
   "metadata": {
    "collapsed": true
   },
   "outputs": [],
   "source": [
    "from sentence_transformers import SentenceTransformer\n",
    "\n",
    "model = SentenceTransformer('distilbert-base-nli-stsb-mean-tokens')"
   ]
  },
  {
   "cell_type": "code",
   "execution_count": 3,
   "outputs": [],
   "source": [
    "from pathlib import Path\n",
    "from utils import get_project_root, read_json\n",
    "\n",
    "default_config = read_json(Path(get_project_root()) / \"config\" / \"mind_rs_default.json\")"
   ],
   "metadata": {
    "collapsed": false,
    "pycharm": {
     "name": "#%%\n"
    }
   }
  },
  {
   "cell_type": "code",
   "execution_count": 4,
   "outputs": [],
   "source": [
    "def load_news_from_file(news_file, news_title):\n",
    "    with open(news_file, \"r\", encoding=\"utf-8\") as rd:\n",
    "        for text in rd:\n",
    "            # news id, category, subcategory, title, abstract, url\n",
    "            nid, vert, subvert, title, abstract, url, title_entity, abs_entity = text.strip(\"\\n\").split(\"\\t\")\n",
    "            if nid in news_title:\n",
    "                continue\n",
    "            news_title[nid] = title + \" \" + abstract\n",
    "    return news_title"
   ],
   "metadata": {
    "collapsed": false,
    "pycharm": {
     "name": "#%%\n"
    }
   }
  },
  {
   "cell_type": "code",
   "execution_count": 6,
   "outputs": [],
   "source": [
    "from collections import OrderedDict\n",
    "\n",
    "root_path = Path(default_config[\"data_config\"][\"data_path\"])\n",
    "news_title_large = OrderedDict()\n",
    "phases = [\"train\", \"valid\", \"test\"]\n",
    "for phase in phases:\n",
    "    file = root_path / \"large\" / phase / \"news.tsv\"\n",
    "    if file.exists():\n",
    "        news_title_large = load_news_from_file(file, news_title_large)\n"
   ],
   "metadata": {
    "collapsed": false,
    "pycharm": {
     "name": "#%%\n"
    }
   }
  },
  {
   "cell_type": "code",
   "execution_count": 10,
   "outputs": [],
   "source": [
    "sentences = list(news_title_large.values())\n",
    "news_ids = list(news_title_large.keys())"
   ],
   "metadata": {
    "collapsed": false,
    "pycharm": {
     "name": "#%%\n"
    }
   }
  },
  {
   "cell_type": "code",
   "execution_count": 11,
   "outputs": [],
   "source": [
    "sentence_embedding = model.encode(sentences)\n"
   ],
   "metadata": {
    "collapsed": false,
    "pycharm": {
     "name": "#%%\n"
    }
   }
  },
  {
   "cell_type": "code",
   "execution_count": 21,
   "outputs": [],
   "source": [
    "def save_embedding_dict(embedding_dict: dict, saved_path):\n",
    "    with open(saved_path, \"w\", encoding=\"utf-8\") as w:\n",
    "        for nid, vector in embedding_dict.items():\n",
    "            line = f\"{nid} {' '.join([str(v) for v in vector])}\\n\"\n",
    "            w.write(line)"
   ],
   "metadata": {
    "collapsed": false,
    "pycharm": {
     "name": "#%%\n"
    }
   }
  },
  {
   "cell_type": "code",
   "execution_count": 23,
   "outputs": [],
   "source": [
    "sentence_embed_path = Path(get_project_root()) / \"dataset/utils/sentence_embed\"\n",
    "sentence_embed_path.mkdir(exist_ok=True)\n",
    "sentence_embedding_dict = dict(zip(news_ids, sentence_embedding.tolist()))\n",
    "embed_file = sentence_embed_path / \"distilbert.txt\""
   ],
   "metadata": {
    "collapsed": false,
    "pycharm": {
     "name": "#%%\n"
    }
   }
  },
  {
   "cell_type": "code",
   "execution_count": 22,
   "outputs": [],
   "source": [
    "save_embedding_dict(sentence_embedding_dict, embed_file)"
   ],
   "metadata": {
    "collapsed": false,
    "pycharm": {
     "name": "#%%\n"
    }
   }
  },
  {
   "cell_type": "code",
   "execution_count": 24,
   "outputs": [],
   "source": [
    "from utils import load_embedding_from_path\n",
    "\n",
    "test_embed = load_embedding_from_path(embed_file)"
   ],
   "metadata": {
    "collapsed": false,
    "pycharm": {
     "name": "#%%\n"
    }
   }
  },
  {
   "cell_type": "code",
   "execution_count": 25,
   "outputs": [],
   "source": [
    "import torch\n",
    "embed_file = sentence_embed_path / \"distilbert.vec\"\n",
    "torch.save(sentence_embedding_dict, embed_file)"
   ],
   "metadata": {
    "collapsed": false,
    "pycharm": {
     "name": "#%%\n"
    }
   }
  },
  {
   "cell_type": "code",
   "execution_count": 26,
   "outputs": [],
   "source": [
    "torch_embed = torch.load(embed_file)"
   ],
   "metadata": {
    "collapsed": false,
    "pycharm": {
     "name": "#%%\n"
    }
   }
  },
  {
   "cell_type": "code",
   "execution_count": null,
   "outputs": [],
   "source": [],
   "metadata": {
    "collapsed": false,
    "pycharm": {
     "name": "#%%\n"
    }
   }
  }
 ],
 "metadata": {
  "kernelspec": {
   "display_name": "Python 3",
   "language": "python",
   "name": "python3"
  },
  "language_info": {
   "codemirror_mode": {
    "name": "ipython",
    "version": 2
   },
   "file_extension": ".py",
   "mimetype": "text/x-python",
   "name": "python",
   "nbconvert_exporter": "python",
   "pygments_lexer": "ipython2",
   "version": "2.7.6"
  }
 },
 "nbformat": 4,
 "nbformat_minor": 0
}