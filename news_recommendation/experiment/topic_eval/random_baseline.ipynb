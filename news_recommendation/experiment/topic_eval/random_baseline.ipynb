{
 "cells": [
  {
   "cell_type": "code",
   "execution_count": 26,
   "metadata": {
    "collapsed": true,
    "pycharm": {
     "name": "#%%\n"
    }
   },
   "outputs": [],
   "source": [
    "import numpy as np\n",
    "import pandas as pd\n",
    "from news_recommendation.utils import get_topic_list, read_json, load_sparse, NPMI\n",
    "from pathlib import Path\n",
    "from collections import defaultdict\n"
   ]
  },
  {
   "cell_type": "code",
   "execution_count": 31,
   "outputs": [],
   "source": [
    "def get_mean_std(values, r: int = 2):\n",
    "    return f\"{np.round(np.mean(values), r)}\" + u\"\\u00B1\" + f\"{np.round(np.std(values), r)}\"\n",
    "def cal_random_score(wd_path, ref_data_path, run_num=5):\n",
    "    word_dict = read_json(wd_path)\n",
    "    reverse_dict = {v: k for k, v in word_dict.items()}\n",
    "    top_n = 10\n",
    "    random_scores = defaultdict(lambda: [])\n",
    "    for _ in range(run_num):\n",
    "        for topic_num in [10, 50, 100, 200]:\n",
    "            topic_dist = np.random.randn(topic_num, len(word_dict))\n",
    "            topic_list = get_topic_list(topic_dist, top_n, reverse_dict)\n",
    "            ref_texts = load_sparse(ref_data_path)\n",
    "            scorer = NPMI((ref_texts > 0).astype(int))\n",
    "            topic_index = [[word_dict[word] - 1 for word in topic] for topic in topic_list]\n",
    "            topic_scores = {\"c_npmi\": scorer.compute_npmi(topics=topic_index, n=top_n)}\n",
    "            random_scores[topic_num].append(np.mean(topic_scores[\"c_npmi\"]))\n",
    "    return pd.DataFrame(random_scores)"
   ],
   "metadata": {
    "collapsed": false,
    "pycharm": {
     "name": "#%%\n"
    }
   }
  },
  {
   "cell_type": "code",
   "execution_count": 32,
   "outputs": [],
   "source": [
    "wd_40910_path = Path(r\"C:\\Users\\Rui\\Documents\\Explainable_AI\\bi_attention\\dataset\\utils\\word_dict\\MIND_large_40910.json\")\n",
    "ref_40910_path = Path(r\"C:\\Users\\Rui\\Documents\\Explainable_AI\\bi_attention\\dataset\\data\\processed\\MIND-large-original\\train.dtm.npz\")\n",
    "mean_npmi_40910 = cal_random_score(wd_40910_path, ref_40910_path)"
   ],
   "metadata": {
    "collapsed": false,
    "pycharm": {
     "name": "#%%\n"
    }
   }
  },
  {
   "cell_type": "code",
   "execution_count": 33,
   "outputs": [],
   "source": [
    "wd_32774_path = Path(\n",
    "    r\"C:\\Users\\Rui\\Documents\\Explainable_AI\\bi_attention\\dataset\\utils\\word_dict\\MIND_large_32774.json\")\n",
    "ref_32774_path = Path(\n",
    "    r\"C:\\Users\\Rui\\Documents\\Explainable_AI\\bi_attention\\dataset\\data\\processed\\MIND-large-10\\train.dtm.npz\")\n",
    "mean_npmi_32774 = cal_random_score(wd_32774_path, ref_32774_path)"
   ],
   "metadata": {
    "collapsed": false,
    "pycharm": {
     "name": "#%%\n"
    }
   }
  },
  {
   "cell_type": "code",
   "execution_count": 36,
   "outputs": [],
   "source": [
    "mean_npmi_40910.mean(axis=0).to_excel(\"mean_npmi_40910.xlsx\")"
   ],
   "metadata": {
    "collapsed": false,
    "pycharm": {
     "name": "#%%\n"
    }
   }
  },
  {
   "cell_type": "code",
   "execution_count": 37,
   "outputs": [],
   "source": [
    "mean_npmi_32774.mean(axis=0).to_excel(\"mean_npmi_32774.xlsx\")\n"
   ],
   "metadata": {
    "collapsed": false,
    "pycharm": {
     "name": "#%%\n"
    }
   }
  },
  {
   "cell_type": "code",
   "execution_count": null,
   "outputs": [],
   "source": [],
   "metadata": {
    "collapsed": false,
    "pycharm": {
     "name": "#%%\n"
    }
   }
  }
 ],
 "metadata": {
  "kernelspec": {
   "display_name": "Python 3",
   "language": "python",
   "name": "python3"
  },
  "language_info": {
   "codemirror_mode": {
    "name": "ipython",
    "version": 2
   },
   "file_extension": ".py",
   "mimetype": "text/x-python",
   "name": "python",
   "nbconvert_exporter": "python",
   "pygments_lexer": "ipython2",
   "version": "2.7.6"
  }
 },
 "nbformat": 4,
 "nbformat_minor": 0
}